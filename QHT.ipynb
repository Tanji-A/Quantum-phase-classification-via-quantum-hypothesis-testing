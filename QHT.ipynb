{
 "cells": [
  {
   "cell_type": "code",
   "execution_count": null,
   "metadata": {},
   "outputs": [],
   "source": [
    "from QHT import QHT\n",
    "from exactqcnn import ExactQCNN\n",
    "from matplotlib import pyplot as plt\n",
    "import numpy as np\n",
    "import json"
   ]
  },
  {
   "cell_type": "code",
   "execution_count": null,
   "metadata": {},
   "outputs": [],
   "source": [
    "exactqcnn = ExactQCNN(15)\n",
    "ins = QHT(None, exactqcnn, None)"
   ]
  },
  {
   "cell_type": "code",
   "execution_count": null,
   "metadata": {},
   "outputs": [],
   "source": [
    "ins.calc_error_separable_CSqNeyman(n=1, seed=2, \n",
    "                                   a_li=[i/10 for i in range(-10,11)],shots=20*60*2, \n",
    "                                   n_ent=3, data=\"test2\", haar=\"haar\",\n",
    "                                   read_json=False,read_npz=True)"
   ]
  },
  {
   "cell_type": "markdown",
   "metadata": {},
   "source": [
    "## Create random unitaries"
   ]
  },
  {
   "cell_type": "code",
   "execution_count": null,
   "metadata": {},
   "outputs": [],
   "source": [
    "def save_random(mode, qubits):\n",
    "    import os\n",
    "    import re\n",
    "    from qiskit.quantum_info import random_clifford, random_unitary\n",
    "    from tqdm.notebook import tqdm\n",
    "    print(f\"mode={mode}, qubits={qubits}\")\n",
    "    \n",
    "    if mode==\"clifford\":\n",
    "        # フォルダ内のファイルを取得\n",
    "        folder = \"./random_unitary/random_clifford/\"\n",
    "        files = os.listdir(folder)\n",
    "        max_i = 0  # 最大の i の初期値を設定\n",
    "        # ファイル名から i の値を抽出して比較\n",
    "        for file_name in files:\n",
    "            match = re.match(fr\"{qubits}qubits_40x2x10000num\\((\\d+)\\).npy\", file_name)\n",
    "            if match:\n",
    "                i = int(match.group(1))\n",
    "                max_i = max(max_i, i)\n",
    "        fname = f\"{qubits}qubits_40x2x10000num({max_i+1}).npy\"\n",
    "        U_li = np.array([random_clifford(qubits).to_matrix() for _ in tqdm(range(40*2*10000))])\n",
    "        np.save(folder+fname, U_li)\n",
    "        # fname = f\"{qubits}qubits_40x2x10num({max_i+1}).npz\"\n",
    "        # U_li = [random_clifford(qubits).to_matrix() for _ in tqdm(range(40*2*10))]\n",
    "        # np.savez_compressed(folder+fname, *U_li)\n",
    "\n",
    "    elif mode==\"haar\":\n",
    "        # フォルダ内のファイルを取得\n",
    "        folder = \"./random_unitary/random_haar/\"\n",
    "        files = os.listdir(folder)\n",
    "        max_i = 0  # 最大の i の初期値を設定\n",
    "        # ファイル名から i の値を抽出して比較\n",
    "        for file_name in files:\n",
    "            match = re.match(fr\"{qubits}qubits_40x2x10000num\\((\\d+)\\).npy\", file_name)\n",
    "            if match:\n",
    "                i = int(match.group(1))\n",
    "                max_i = max(max_i, i)\n",
    "        fname = f\"{qubits}qubits_40x2x10000num({max_i+1}).npy\"\n",
    "        U_li = np.array([random_unitary(2**qubits).data for _ in tqdm(range(40*2*10000))])\n",
    "        np.save(folder+fname, U_li)\n",
    "for _ in range(5):\n",
    "    save_random(\"haar\", 1)"
   ]
  },
  {
   "cell_type": "markdown",
   "metadata": {},
   "source": [
    "## Plot"
   ]
  },
  {
   "cell_type": "code",
   "execution_count": null,
   "metadata": {},
   "outputs": [],
   "source": [
    "class PlotData:\n",
    "    def __init__(self, qht:QHT):\n",
    "        self.qht = qht\n",
    "        self.results_list_alpha_vs_beta = []\n",
    "        self.results_list_n_vs_logbeta = []\n",
    "        self.results_list_beta_vs_n = []\n",
    "        self.results_list_shots_vs_n = [] \n",
    "    def get_results_alpha_vs_beta(self, n, data=\"test1\"):\n",
    "        results_error_li = []\n",
    "        results_error_point = []\n",
    "        settings_dict = []\n",
    "        results_error_li.append(self.qht.calc_error_separable_OP(n, alpha_min_li=[i/100 for i in range(1,100)],\n",
    "                                                                 read_json=True, data=data))\n",
    "        settings_dict.append({\"color\":\"b\",\"linestyle\":\"-\",\"label\":\"cNeyman(OP)\"})\n",
    "        for x in [8, 15, 30, 60, 120, 240]:\n",
    "            results_error_li.append(self.qht.calc_error_separable_CSqNeyman(n, seed=2, \n",
    "                                    a_li=[i/10 for i in range(-10,11)],shots=20*x*2, \n",
    "                                    n_ent=3, data=data, haar=\"haar\",\n",
    "                                    read_json=True,read_npz=False))\n",
    "            settings_dict.append({\"color\":\"brown\",\"marker\":\".\",\"linestyle\":\"--\",\"label\":\"tomography\"})\n",
    "        # results_error_li.append(self.qht.calc_error_separable_PartialCSqNeyman(n, \n",
    "        #                         a_li=[i/10 for i in range(-10,11)],\n",
    "        #                         n_ent=6, data=data,\n",
    "        #                         read_json=False,read_npz=False))\n",
    "        # settings_dict.append({\"color\":\"brown\",\"marker\":\".\",\"linestyle\":\"-\",\"label\":\"PartialCS\"})\n",
    "        results_error_li.append(self.qht.calc_error_separable_qcnn(n, shots_per_rho=None,\n",
    "                                                                   alpha_min_li=[i/100 for i in range(1,100)],\n",
    "                                                                   index=150, read_json=True, data=data,\n",
    "                                                                   qcnn_mode=\"qcnn1\"))\n",
    "        settings_dict.append({\"color\":\"m\",\"linestyle\":\"-\",\"label\":\"qcnn\"})\n",
    "        results_error_li.append(self.qht.calc_error_separable_exactqcnn(n, alpha_min_li=[i/100 for i in range(1,100)], read_json=True, data=data))\n",
    "        settings_dict.append({\"color\":\"g\",\"linestyle\":\"-\",\"label\":\"exactqcnn\"})\n",
    "        self.results_list_alpha_vs_beta.append([n, results_error_li, results_error_point, settings_dict])\n",
    "    def get_results_beta_vs_n(self, n_max, data=\"test1\"):\n",
    "        n_li = list(range(1,n_max+1))\n",
    "        results_error_li = []\n",
    "        results_error_point = []\n",
    "        settings_dict = []\n",
    "        results_error_li.append(self.qht.calc_error_separable_OP(n_li, alpha_min_li=[i/500 for i in range(1,500)],\n",
    "                                                                 read_json=True, data=data))\n",
    "        settings_dict.append({\"color\":\"b\", \"linestyle\":\"\", \"marker\":\".\", \"label\":\"cNeyman(OP)\"})\n",
    "        results_error_li.append(self.qht.calc_error_separable_CSqNeyman(n_li, seed=2, \n",
    "                                a_li=[i/10 for i in range(-10,11)],shots=20*60*2,\n",
    "                                n_ent=2, data=data, haar=\"haar\",\n",
    "                                read_json=True,read_npz=True))\n",
    "        settings_dict.append({\"color\":\"brown\", \"linestyle\":\"\", \"marker\":\".\", \"label\":\"tomography\"})\n",
    "        results_error_li.append(self.qht.calc_error_separable_PartialCSqNeyman(n_li, \n",
    "                                a_li=[i/10 for i in range(-10,11)],\n",
    "                                n_ent=2, data=data,\n",
    "                                read_json=True,read_npz=True))\n",
    "        settings_dict.append({\"color\":\"brown\",\"linestyle\":\"\",\"marker\":\"x\",\"label\":\"PartialCS\"})\n",
    "        results_error_li.append(self.qht.calc_error_separable_qcnn(n_li, shots_per_rho=None, \n",
    "                                                                   alpha_min_li=[i/500 for i in range(1,500)],\n",
    "                                                                   index=150, read_json=True, data=data,\n",
    "                                                                   qcnn_mode=\"qcnn1\"))\n",
    "        settings_dict.append({\"color\":\"m\", \"linestyle\":\"\", \"marker\":\".\", \"label\":\"qcnn\"})\n",
    "        results_error_li.append(self.qht.calc_error_separable_exactqcnn(n_li, alpha_min_li=[i/500 for i in range(1,500)], read_json=True, data=data))\n",
    "        settings_dict.append({\"color\":\"g\", \"linestyle\":\"\", \"marker\":\".\", \"label\":\"exactqcnn\"})\n",
    "        self.results_list_beta_vs_n.append([results_error_li, results_error_point, settings_dict])\n",
    "    def get_results_shots_vs_n(self, n_max, data=\"test1\"):\n",
    "        n_li = list(range(1,n_max+1))\n",
    "        shots_li = []\n",
    "        results_error_li = []\n",
    "        results_error_point = []\n",
    "        settings_dict = []\n",
    "        shots_li.append([320,600,1200,2400])\n",
    "        results_error_li.append([self.qht.calc_error_separable_CSqNeyman(n_li, seed=2, \n",
    "                                a_li=[i/10 for i in range(-10,11)], shots=shots,\n",
    "                                n_ent=2, data=data,\n",
    "                                read_json=True,read_npz=True) for shots in shots_li[-1]])\n",
    "        settings_dict.append({\"color\":\"brown\", \"linestyle\":\"--\", \"marker\":\"o\", \"label\":\"tomography\"})\n",
    "        shots_per_rho = 500\n",
    "        shots_li.append([i*20*shots_per_rho*2 for i in range(0,151,10)])\n",
    "        results_error_point.append([self.qht.calc_error_separable_qcnn(n_li, shots_per_rho=shots_per_rho, \n",
    "                                                                      index=shots//(20*shots_per_rho*2), read_json=True, data=data,\n",
    "                                                                      qcnn_mode=\"qcnn2\") for shots in shots_li[-1]])\n",
    "        settings_dict.append({\"color\":\"m\", \"linestyle\":\"--\", \"marker\":\"o\", \"label\":\"qcnn\"})\n",
    "        self.results_list_shots_vs_n.append([shots_li, results_error_li, results_error_point, settings_dict])\n",
    "\n",
    "ins_plotdata = PlotData(qht=ins)"
   ]
  },
  {
   "cell_type": "markdown",
   "metadata": {},
   "source": [
    "##### $\\beta_n$ vs. $\\alpha_n$"
   ]
  },
  {
   "cell_type": "code",
   "execution_count": 15,
   "metadata": {},
   "outputs": [],
   "source": [
    "ins_plotdata.get_results_alpha_vs_beta(1, \"test2\")"
   ]
  },
  {
   "cell_type": "code",
   "execution_count": null,
   "metadata": {},
   "outputs": [],
   "source": [
    "ins.plot_alpha_vs_beta(*ins_plotdata.results_list_alpha_vs_beta[0])"
   ]
  },
  {
   "cell_type": "markdown",
   "metadata": {},
   "source": [
    "##### $n$ vs. $\\beta_n$"
   ]
  },
  {
   "cell_type": "code",
   "execution_count": 17,
   "metadata": {},
   "outputs": [],
   "source": [
    "ins_plotdata.get_results_beta_vs_n(50, \"test1\")"
   ]
  },
  {
   "cell_type": "code",
   "execution_count": null,
   "metadata": {},
   "outputs": [],
   "source": [
    "for alpha in [0.3,0.1,0.05]:\n",
    "    ins.plot_beta_vs_n(alpha, *ins_plotdata.results_list_beta_vs_n[0])"
   ]
  },
  {
   "cell_type": "markdown",
   "metadata": {},
   "source": [
    "##### $n$ vs. training shots"
   ]
  },
  {
   "cell_type": "code",
   "execution_count": 79,
   "metadata": {},
   "outputs": [],
   "source": [
    "ins_plotdata.get_results_shots_vs_n(500, \"test1\")"
   ]
  },
  {
   "cell_type": "code",
   "execution_count": null,
   "metadata": {},
   "outputs": [],
   "source": [
    "for a in [0.3,0.1,0.05]:\n",
    "    ins.plot_shots_vs_n(a, a, *ins_plotdata.results_list_shots_vs_n[0])"
   ]
  },
  {
   "cell_type": "markdown",
   "metadata": {},
   "source": [
    "##### testloss vs. training shots"
   ]
  },
  {
   "cell_type": "code",
   "execution_count": null,
   "metadata": {},
   "outputs": [],
   "source": [
    "for x in [8,15,30,60,120,240]:\n",
    "    ins.calc_probnt_separable_CSqNeyman(seed=2, a_=0, shots=20*x*2,\n",
    "                                        n_ent=3, data=\"test2\", haar=\"clifford\",\n",
    "                                        read_json=False)"
   ]
  },
  {
   "cell_type": "code",
   "execution_count": null,
   "metadata": {},
   "outputs": [],
   "source": [
    "def plot_shots_vs_testloss(qht:QHT, data=\"test1\", order=[], scale=\"linear\"):\n",
    "    if data==\"test1\":\n",
    "        label_i = qht.label_i_test1\n",
    "    elif data==\"test2\":\n",
    "        label_i = qht.label_i_test2\n",
    "    label_i[label_i!=0] = 1\n",
    "    shots_li = []\n",
    "    testloss_li = []\n",
    "    settings_dict = []\n",
    "\n",
    "    shots_li.append([320,600,1200,2400,4800,9600])\n",
    "    probnt_li = [qht.calc_probnt_separable_CSqNeyman(seed=2, a_=0, shots=shots, \n",
    "                                                     n_ent=2, data=data, haar=\"haar\",\n",
    "                                                     read_json=True) for shots in shots_li[-1]]\n",
    "    testloss_li.append([np.sum((probnt-label_i)**2)/len(probnt) for probnt in probnt_li])\n",
    "    settings_dict.append({\"color\":\"brown\",\"marker\":\"o\",\"linestyle\":\"--\",\"label\":\"tomography\"})\n",
    "    \n",
    "    # shots_per_rho = 1000\n",
    "    # qcnn_mode = \"qcnn1\"\n",
    "    # shots_li.append([i*20*shots_per_rho*2 for i in range(0,151,10)])\n",
    "    # probnt_li = []\n",
    "    # for shots in shots_li[-1]:\n",
    "    #     with open(f\"./json_data/{qcnn_mode}(L={qht.n_qubits}_shots={shots_per_rho},{data}).json\") as f:\n",
    "    #         json_dict = json.load(f)\n",
    "    #     ave_qcnn_json = json_dict[\"expectation_list\"][f\"index={shots//(20*shots_per_rho*2)}\"]\n",
    "    #     probnt_li.append(ave_qcnn_json)\n",
    "    # testloss_li.append([np.sum((probnt-label_i)**2)/len(probnt) for probnt in probnt_li])\n",
    "    # settings_dict.append({\"color\":\"brown\", \"linestyle\":\"--\", \"marker\":\".\", \"label\":\"qcnn\"})\n",
    "\n",
    "    qcnn_mode = \"lowesaqcnn1\"\n",
    "    shots_li.append([20*i for i in (100, 250, 500)])\n",
    "    probnt_li = []\n",
    "    for shots in shots_li[-1]:\n",
    "        with open(f\"./json_data/{qcnn_mode}(L={qht.n_qubits}_shots={shots//20},{data}).json\") as f:\n",
    "            json_dict = json.load(f)\n",
    "        ave_qcnn_json = json_dict[\"expectation_list\"][f\"index={300}\"]\n",
    "        probnt_li.append(ave_qcnn_json)\n",
    "    testloss_li.append([np.sum((probnt-label_i)**2)/len(probnt) for probnt in probnt_li])\n",
    "    settings_dict.append({\"color\":\"m\", \"linestyle\":\"--\", \"marker\":\"o\", \"label\":\"low-wegiht qcnn\"})\n",
    "\n",
    "    fig = plt.figure(figsize=(4.8,4.8))\n",
    "    # 設定\n",
    "    plt.rcParams['font.family'] = 'Times New Roman'\n",
    "    plt.rcParams[\"font.size\"] = 20\n",
    "    plt.rcParams['xtick.direction'] = 'in'\n",
    "    plt.rcParams['ytick.direction'] = 'in'\n",
    "    for i, testloss in enumerate(testloss_li):\n",
    "        plt.plot(shots_li[i],testloss, **settings_dict[i])\n",
    "\n",
    "    plt.xscale(scale)\n",
    "    plt.xlabel(\"training shots\")\n",
    "    plt.ylabel(\"validation loss (MSE)\")\n",
    "    plt.ticklabel_format(style=\"sci\", axis=\"x\", scilimits=(3,3))\n",
    "    # plt.title(\"Validation Loss vs. Training Shots\")\n",
    "    # ordering legend\n",
    "    # if order:\n",
    "    #     handles, labels = plt.gca().get_legend_handles_labels()\n",
    "    #     plt.legend([handles[idx] for idx in order], [labels[idx] for idx in order])\n",
    "    # else:\n",
    "    #     plt.legend()\n",
    "\n",
    "    plt.show(fig)\n",
    "    plt.close(fig)\n",
    "plot_shots_vs_testloss(ins, \"test1\", order=[0])"
   ]
  },
  {
   "cell_type": "code",
   "execution_count": null,
   "metadata": {},
   "outputs": [],
   "source": []
  }
 ],
 "metadata": {
  "kernelspec": {
   "display_name": "qc_3.11_venv",
   "language": "python",
   "name": "python3"
  },
  "language_info": {
   "codemirror_mode": {
    "name": "ipython",
    "version": 3
   },
   "file_extension": ".py",
   "mimetype": "text/x-python",
   "name": "python",
   "nbconvert_exporter": "python",
   "pygments_lexer": "ipython3",
   "version": "3.11.8"
  }
 },
 "nbformat": 4,
 "nbformat_minor": 2
}
